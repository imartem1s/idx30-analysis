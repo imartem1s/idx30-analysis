{
 "cells": [
  {
   "cell_type": "code",
   "id": "initial_id",
   "metadata": {
    "collapsed": true,
    "ExecuteTime": {
     "end_time": "2025-07-29T05:19:48.487808Z",
     "start_time": "2025-07-29T05:19:48.482097Z"
    }
   },
   "source": [
    "import yfinance as yf\n",
    "import pandas as pd\n",
    "from datetime import datetime"
   ],
   "outputs": [],
   "execution_count": 15
  },
  {
   "metadata": {
    "ExecuteTime": {
     "end_time": "2025-07-29T05:19:48.918408Z",
     "start_time": "2025-07-29T05:19:48.902573Z"
    }
   },
   "cell_type": "code",
   "source": [
    "# List ticker saham IDX30 (gunakan format Yahoo Finance: .JK untuk saham Indonesia)\n",
    "idx30_tickers = [\n",
    "    'BBCA.JK', 'BBRI.JK', 'BMRI.JK', 'TLKM.JK', 'ASII.JK',\n",
    "    'UNVR.JK', 'ICBP.JK', 'INDF.JK', 'ANTM.JK', 'BRPT.JK',\n",
    "    'CPIN.JK', 'EXCL.JK', 'GGRM.JK', 'HMSP.JK', 'KLBF.JK',\n",
    "    'MDKA.JK', 'PGAS.JK', 'PTBA.JK', 'SCMA.JK', 'TINS.JK',\n",
    "    'TKIM.JK', 'TOWR.JK', 'UNTR.JK', 'WIKA.JK', 'ADRO.JK',\n",
    "    'BSDE.JK', 'ELSA.JK', 'INTP.JK', 'JPFA.JK', 'SMGR.JK'\n",
    "]\n"
   ],
   "id": "67202dd0639aa36b",
   "outputs": [],
   "execution_count": 16
  },
  {
   "metadata": {
    "ExecuteTime": {
     "end_time": "2025-07-29T05:24:38.785379Z",
     "start_time": "2025-07-29T05:24:37.855412Z"
    }
   },
   "cell_type": "code",
   "source": [
    "start_date = \"2020-01-01\"\n",
    "end_date = datetime.today().strftime('%Y-%m-%d')\n",
    "\n",
    "def download_idx30_data(tickers, start, end):\n",
    "    price_data = pd.DataFrame()\n",
    "\n",
    "    for ticker in tickers:\n",
    "        print(f\"Downloading {ticker}...\")\n",
    "        try:\n",
    "            df = yf.download(ticker, start=start, end=end, auto_adjust=True, progress=False)\n",
    "            if not df.empty:\n",
    "                price_data[ticker] = df['Close']\n",
    "            else:\n",
    "                print(f\"[!] Data kosong untuk: {ticker}\")\n",
    "        except Exception as e:\n",
    "            print(f\"[X] Error saat mengambil {ticker}: {e}\")\n",
    "\n",
    "    price_data = price_data.loc[:, ~price_data.columns.duplicated()]\n",
    "    return price_data\n",
    "\n",
    "idx30_data = download_idx30_data(idx30_tickers, start_date, end_date)\n",
    "\n",
    "idx30_data.to_csv(\"idx30_prices_0.csv\")\n",
    "print(\"Data berhasil disimpan\")\n",
    "\n",
    "print(idx30_data.head())\n"
   ],
   "id": "aa1385a10aa338aa",
   "outputs": [
    {
     "name": "stdout",
     "output_type": "stream",
     "text": [
      "Downloading BBCA.JK...\n",
      "Downloading BBRI.JK...\n",
      "Downloading BMRI.JK...\n",
      "Downloading TLKM.JK...\n",
      "Downloading ASII.JK...\n",
      "Downloading UNVR.JK...\n",
      "Downloading ICBP.JK...\n",
      "Downloading INDF.JK...\n",
      "Downloading ANTM.JK...\n",
      "Downloading BRPT.JK...\n",
      "Downloading CPIN.JK...\n",
      "Downloading EXCL.JK...\n",
      "Downloading GGRM.JK...\n",
      "Downloading HMSP.JK...\n",
      "Downloading KLBF.JK...\n",
      "Downloading MDKA.JK...\n",
      "Downloading PGAS.JK...\n",
      "Downloading PTBA.JK...\n",
      "Downloading SCMA.JK...\n",
      "Downloading TINS.JK...\n",
      "Downloading TKIM.JK...\n",
      "Downloading TOWR.JK...\n",
      "Downloading UNTR.JK...\n",
      "Downloading WIKA.JK...\n",
      "Downloading ADRO.JK...\n",
      "Downloading BSDE.JK...\n",
      "Downloading ELSA.JK...\n",
      "Downloading INTP.JK...\n",
      "Downloading JPFA.JK...\n",
      "Downloading SMGR.JK...\n",
      "Data berhasil disimpan\n",
      "                BBCA.JK      BBRI.JK      BMRI.JK      TLKM.JK      ASII.JK  \\\n",
      "Date                                                                          \n",
      "2020-01-02  5820.927734  2960.843506  2800.025635  2864.556152  4718.496094   \n",
      "2020-01-03  5916.637207  2967.556885  2790.993164  2915.839844  4769.970215   \n",
      "2020-01-06  5860.081055  2933.987793  2745.831543  2901.187500  4632.706055   \n",
      "2020-01-07  5864.432129  2954.129395  2745.831543  2886.534912  4649.863281   \n",
      "2020-01-08  5812.226074  2940.701660  2709.702148  2857.229980  4649.863281   \n",
      "\n",
      "                UNVR.JK       ICBP.JK      INDF.JK     ANTM.JK      BRPT.JK  \\\n",
      "Date                                                                          \n",
      "2020-01-02  6994.392578   9761.506836  6266.508301  689.813293  1442.114868   \n",
      "2020-01-03  7014.843262   9849.054688  6305.796875  698.025391  1402.739868   \n",
      "2020-01-06  6933.037598  10067.922852  6286.152344  726.767517  1284.614380   \n",
      "2020-01-07  6912.586426  10067.922852  6443.307129  718.555542  1304.302002   \n",
      "2020-01-08  6810.329590  10111.696289  6462.951172  743.191650  1260.004883   \n",
      "\n",
      "            ...       TKIM.JK     TOWR.JK       UNTR.JK      WIKA.JK  \\\n",
      "Date        ...                                                        \n",
      "2020-01-02  ...   9849.019531  688.863525  12383.704102  1954.492554   \n",
      "2020-01-03  ...  10777.710938  693.168884  12254.107422  2060.925293   \n",
      "2020-01-06  ...  10899.908203  688.863525  12426.901367  2041.573853   \n",
      "2020-01-07  ...  11168.739258  701.779846  12239.706055  2051.249512   \n",
      "2020-01-08  ...  11046.541992  688.863525  12412.503906  2012.546753   \n",
      "\n",
      "               ADRO.JK  BSDE.JK     ELSA.JK       INTP.JK      JPFA.JK  \\\n",
      "Date                                                                     \n",
      "2020-01-02  737.652283   1270.0  214.761948  14673.576172  1253.429688   \n",
      "2020-01-03  755.960571   1290.0  224.717819  14950.811523  1253.429688   \n",
      "2020-01-06  755.960571   1280.0  234.673645  14950.811523  1282.009521   \n",
      "2020-01-07  794.661560   1250.0  231.829102  14970.611328  1359.583252   \n",
      "2020-01-08  776.601074   1220.0  231.829102  14416.146484  1355.500366   \n",
      "\n",
      "                 SMGR.JK  \n",
      "Date                      \n",
      "2020-01-02  10497.498047  \n",
      "2020-01-03  10605.054688  \n",
      "2020-01-06  10562.032227  \n",
      "2020-01-07  10583.543945  \n",
      "2020-01-08  10325.409180  \n",
      "\n",
      "[5 rows x 30 columns]\n"
     ]
    }
   ],
   "execution_count": 20
  },
  {
   "metadata": {},
   "cell_type": "code",
   "outputs": [],
   "execution_count": null,
   "source": "",
   "id": "eae4b17ea9cf069e"
  }
 ],
 "metadata": {
  "kernelspec": {
   "display_name": "Python 3",
   "language": "python",
   "name": "python3"
  },
  "language_info": {
   "codemirror_mode": {
    "name": "ipython",
    "version": 2
   },
   "file_extension": ".py",
   "mimetype": "text/x-python",
   "name": "python",
   "nbconvert_exporter": "python",
   "pygments_lexer": "ipython2",
   "version": "2.7.6"
  }
 },
 "nbformat": 4,
 "nbformat_minor": 5
}
